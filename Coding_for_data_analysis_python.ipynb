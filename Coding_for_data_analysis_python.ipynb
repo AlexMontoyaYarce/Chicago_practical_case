{
  "nbformat": 4,
  "nbformat_minor": 5,
  "metadata": {
    "colab": {
      "name": "Coding_for_data_analysis_python.ipynb",
      "provenance": [],
      "collapsed_sections": [],
      "include_colab_link": true
    },
    "kernelspec": {
      "display_name": "Python 3",
      "language": "python",
      "name": "python3"
    },
    "language_info": {
      "codemirror_mode": {
        "name": "ipython",
        "version": 3
      },
      "file_extension": ".py",
      "mimetype": "text/x-python",
      "name": "python",
      "nbconvert_exporter": "python",
      "pygments_lexer": "ipython3",
      "version": "3.8.5"
    }
  },
  "cells": [
    {
      "cell_type": "markdown",
      "metadata": {
        "id": "view-in-github",
        "colab_type": "text"
      },
      "source": [
        "<a href=\"https://colab.research.google.com/github/AlexMontoyaYarce/Chicago_practical_case/blob/main/Coding_for_data_analysis_python.ipynb\" target=\"_parent\"><img src=\"https://colab.research.google.com/assets/colab-badge.svg\" alt=\"Open In Colab\"/></a>"
      ]
    },
    {
      "cell_type": "markdown",
      "metadata": {
        "id": "Ceuc_WQPQPuy"
      },
      "source": [
        "# Module: Coding for Data Analysis\n",
        "**💪 The Challenge**  \n",
        "You were recently hired by the City of Chicago as a data analyst to support the Finance Department. For your first project on the job, the Head of Finance (who has minimal data experience) asked you to send a summary via email answering the following questions:\n",
        "\n",
        "1. Does the City of Chicago pay more for salary or hourly employees among those who are full-time?\n",
        "2. What's the distribution of pay, among City of Chicago employees, stratified by hourly and salary employees?\n",
        "3. What are the top 5 highest paid departments by total and employee average?\n",
        "\n",
        "**💡 Hint:**  \n",
        "Pay is split up by yearly salary employees and hourly employees. Consider how you can potentially compare the pay among these two types of workers.\n",
        "\n",
        "**💻 Industry Perspective**  \n",
        "This module with mimic similar requests you will receive as a data analyst. While doing this module you should constantly consider how your work will be communicated to non-technical stakeholders.\n",
        "\n",
        "**📝 Module Structure**  \n",
        "This will be split up into two modules for each week:\n",
        "- Week 1: Exploratory Data Analysis\n",
        "    - Reviewing data\n",
        "    - Plotting Histograms\n",
        "    - Writing a high level analysis plan\n",
        "- Week 2: Data Cleaning and Insights\n",
        "    - Data cleaning\n",
        "    - Feature engineering a total yearly pay variable\n",
        "        - \"Feature engineering\" can be understood as creating new variables from existing data.\n",
        "    - Answering the above questions\n",
        "\n",
        "**🚨 Note:**  \n",
        "This data sourced from the [City of Chicago's government website](https://data.cityofchicago.org/Administration-Finance/Current-Employee-Names-Salaries-and-Position-Title/xzkq-xp2w). For the purpose of this module, the provided CSV has altered data to provide a more realistic challenge for data cleaning.\n",
        "\n",
        "**🐍 Python A-Z: Helpful Modules:**  \n",
        "- Module 2 - Core Programming Principles\n",
        "    - Types of Variables\n",
        "    - The \"For\" Loop\n",
        "    - The \"If\" statement\n",
        "- Module 3 - Fundamentals of Python\n",
        "    - Let's create some lists\n",
        "    - Slicing\n",
        "    - Slicing Arrays\n",
        "- Module 4 - Matrices\n",
        "    - Dictionaries in Python\n",
        "- Module 5 - Data Frames\n",
        "    - The entire module\n",
        "- Module 6 - Advanced Visualization\n",
        "    - What is a Category data type?\n",
        "    - Histograms\n",
        "    - Violinplots vs Boxplots"
      ],
      "id": "Ceuc_WQPQPuy"
    },
    {
      "cell_type": "markdown",
      "metadata": {
        "id": "dV5w83KyQPu4"
      },
      "source": [
        "# Week 1: Exploratory Data Analysis\n",
        "The focus of week 1 will be on:\n",
        "1. The general steps of reviewing a data for a project via python (e.g. summaries and histograms).\n",
        "2. Creating a high level analysis plan to guide your work for week 2.  \n",
        "\n",
        "**💻 Industry Perspective**  \n",
        "These steps are the foundation of any data project you will work on, and will help set you up for success. Specifically, taking this steps early can give you an idea of the scope of a requested project and whether it aligns with the expectations of the requester."
      ],
      "id": "dV5w83KyQPu4"
    },
    {
      "cell_type": "markdown",
      "metadata": {
        "id": "hlgwgcblQPu5"
      },
      "source": [
        "### Import Packages"
      ],
      "id": "hlgwgcblQPu5"
    },
    {
      "cell_type": "code",
      "metadata": {
        "id": "NaDdamssQPu6"
      },
      "source": [
        "import pandas as pd\n",
        "import numpy as np\n",
        "import seaborn as sns\n",
        "import matplotlib as plt"
      ],
      "id": "NaDdamssQPu6",
      "execution_count": 2,
      "outputs": []
    },
    {
      "cell_type": "markdown",
      "metadata": {
        "id": "C0cOm21AznaT"
      },
      "source": [
        "If you are running this notebook from Colab, uncomment and run this cell first (this will give access to the dataset to Colab notebook, [more info here](https://www.geeksforgeeks.org/ways-to-import-csv-files-in-google-colab/))"
      ],
      "id": "C0cOm21AznaT"
    },
    {
      "cell_type": "code",
      "metadata": {
        "colab": {
          "resources": {
            "http://localhost:8080/nbextensions/google.colab/files.js": {
              "data": "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",
              "ok": true,
              "headers": [
                [
                  "content-type",
                  "application/javascript"
                ]
              ],
              "status": 200,
              "status_text": ""
            }
          },
          "base_uri": "https://localhost:8080/",
          "height": 72
        },
        "id": "YagxIHHLz16J",
        "outputId": "ddd82029-c308-45c8-9ae7-4b7d1ed4af98"
      },
      "source": [
        "import io\n",
        "from google.colab import files\n",
        "uploaded = files.upload()"
      ],
      "id": "YagxIHHLz16J",
      "execution_count": 3,
      "outputs": [
        {
          "output_type": "display_data",
          "data": {
            "text/html": [
              "\n",
              "     <input type=\"file\" id=\"files-e36db10e-a239-4c76-a3db-85257bed36db\" name=\"files[]\" multiple disabled\n",
              "        style=\"border:none\" />\n",
              "     <output id=\"result-e36db10e-a239-4c76-a3db-85257bed36db\">\n",
              "      Upload widget is only available when the cell has been executed in the\n",
              "      current browser session. Please rerun this cell to enable.\n",
              "      </output>\n",
              "      <script src=\"/nbextensions/google.colab/files.js\"></script> "
            ],
            "text/plain": [
              "<IPython.core.display.HTML object>"
            ]
          },
          "metadata": {}
        },
        {
          "output_type": "stream",
          "name": "stdout",
          "text": [
            "Saving chicago_employee_salary_edited.csv to chicago_employee_salary_edited.csv\n"
          ]
        }
      ]
    },
    {
      "cell_type": "markdown",
      "metadata": {
        "id": "kiSK-tAqQPu8"
      },
      "source": [
        "### Import Data"
      ],
      "id": "kiSK-tAqQPu8"
    },
    {
      "cell_type": "markdown",
      "metadata": {
        "id": "i5L0EodIQPu8"
      },
      "source": [
        "---\n",
        "**❓ 1. Import the CSV named `chicago_employee_salary_edited.csv` and show the first 5 rows of the imported dataframe.**"
      ],
      "id": "i5L0EodIQPu8"
    },
    {
      "cell_type": "code",
      "metadata": {
        "colab": {
          "base_uri": "https://localhost:8080/"
        },
        "id": "8a_wLXQOQPu8",
        "outputId": "4b187a92-625b-40cc-92e6-a9aaf982b391"
      },
      "source": [
        "import pandas as pd \n",
        "df = pd.read_csv(\"chicago_employee_salary_edited.csv\")\n",
        "print(df.head())"
      ],
      "id": "8a_wLXQOQPu8",
      "execution_count": 4,
      "outputs": [
        {
          "output_type": "stream",
          "name": "stdout",
          "text": [
            "                  Name  ... Hourly Rate\n",
            "0    AARON,  JEFFERY M  ...         NaN\n",
            "1       AARON,  KARINA  ...         NaN\n",
            "2  AARON,  KIMBERLEI R  ...         NaN\n",
            "3  ABAD JR,  VICENTE M  ...         NaN\n",
            "4    ABARCA,  EMMANUEL  ...        45.9\n",
            "\n",
            "[5 rows x 8 columns]\n"
          ]
        }
      ]
    },
    {
      "cell_type": "markdown",
      "metadata": {
        "id": "yju0AcOAQPu9"
      },
      "source": [
        "### Reviewing Data"
      ],
      "id": "yju0AcOAQPu9"
    },
    {
      "cell_type": "markdown",
      "metadata": {
        "id": "A_4EskKZQPu9"
      },
      "source": [
        "---\n",
        "**❓ 2. Return the names of all the columns within the dataframe using pandas.**  \n",
        "\n",
        "Though there are not that many columns, pulling this information programmatically is useful if we ever want to use the column names in a function or for-loop."
      ],
      "id": "A_4EskKZQPu9"
    },
    {
      "cell_type": "code",
      "metadata": {
        "id": "6GzOjtg_QPu-",
        "colab": {
          "base_uri": "https://localhost:8080/"
        },
        "outputId": "ef90fa38-4e51-4186-c8ac-8f8fd1e127b9"
      },
      "source": [
        "print(df.columns)\n"
      ],
      "id": "6GzOjtg_QPu-",
      "execution_count": 5,
      "outputs": [
        {
          "output_type": "stream",
          "name": "stdout",
          "text": [
            "Index(['Name', 'Job Titles', 'Department', 'Full or Part-Time',\n",
            "       'Salary or Hourly', 'Typical Hours', 'Annual Salary', 'Hourly Rate'],\n",
            "      dtype='object')\n"
          ]
        }
      ]
    },
    {
      "cell_type": "markdown",
      "metadata": {
        "id": "wi5aV1g2QPu-"
      },
      "source": [
        "---\n",
        "**❓ 3. Determine the data types of every column within the dataframe using pandas.**  \n",
        "\n",
        "Ensuring the correct data types is an important data quality step that will prevent error messages later in the process.\n",
        "\n",
        "🐍 Python A-Z: Module 5"
      ],
      "id": "wi5aV1g2QPu-"
    },
    {
      "cell_type": "code",
      "metadata": {
        "id": "jzOGW1RrQPu_",
        "colab": {
          "base_uri": "https://localhost:8080/"
        },
        "outputId": "90ab8d08-bea9-4025-dd51-0334e2abb23a"
      },
      "source": [
        "dataType = df.dtypes\n",
        "print('Data type of each column of Dataframe :')\n",
        "print(dataType)"
      ],
      "id": "jzOGW1RrQPu_",
      "execution_count": 6,
      "outputs": [
        {
          "output_type": "stream",
          "name": "stdout",
          "text": [
            "Data type of each column of Dataframe :\n",
            "Name                  object\n",
            "Job Titles            object\n",
            "Department            object\n",
            "Full or Part-Time     object\n",
            "Salary or Hourly      object\n",
            "Typical Hours        float64\n",
            "Annual Salary        float64\n",
            "Hourly Rate          float64\n",
            "dtype: object\n"
          ]
        }
      ]
    },
    {
      "cell_type": "markdown",
      "metadata": {
        "id": "geKlQOi3QPu_"
      },
      "source": [
        "---\n",
        "**❓ 4. Determine how many rows and columns are present within the dataframe.**"
      ],
      "id": "geKlQOi3QPu_"
    },
    {
      "cell_type": "code",
      "metadata": {
        "id": "AQ3O_w7OQPvA",
        "colab": {
          "base_uri": "https://localhost:8080/"
        },
        "outputId": "c364b00b-178c-4ad6-9a13-978a2f75384a"
      },
      "source": [
        "print(\"Dataframe shape:\", df.shape)"
      ],
      "id": "AQ3O_w7OQPvA",
      "execution_count": 7,
      "outputs": [
        {
          "output_type": "stream",
          "name": "stdout",
          "text": [
            "Dataframe shape: (31059, 8)\n"
          ]
        }
      ]
    },
    {
      "cell_type": "markdown",
      "metadata": {
        "id": "Y8wzpeYTQPvA"
      },
      "source": [
        "---\n",
        "**❓ 5. Determine the count of NAs present for each column within the dataframe.**  \n",
        "\n",
        "**💭 Reflection Point:**  \n",
        "Are NAs always bad to have in your data? In the context of this dataframe, think of some instances where 1) NAs would be acceptable to have present, and 2) NAs would not be acceptable."
      ],
      "id": "Y8wzpeYTQPvA"
    },
    {
      "cell_type": "code",
      "metadata": {
        "id": "cwr_7___QPvA",
        "colab": {
          "base_uri": "https://localhost:8080/"
        },
        "outputId": "ddb49a83-ec6f-4c7d-faed-f215920dfccc"
      },
      "source": [
        "\n",
        "print(\" \\nCount Total NAs at each column in this Dataframe: \\n\\n\", df.isnull().sum())\n"
      ],
      "id": "cwr_7___QPvA",
      "execution_count": 8,
      "outputs": [
        {
          "output_type": "stream",
          "name": "stdout",
          "text": [
            " \n",
            "Count Total NAs at each column in this Dataframe: \n",
            "\n",
            " Name                     0\n",
            "Job Titles               0\n",
            "Department               0\n",
            "Full or Part-Time        0\n",
            "Salary or Hourly         0\n",
            "Typical Hours        24432\n",
            "Annual Salary         7060\n",
            "Hourly Rate          23999\n",
            "dtype: int64\n"
          ]
        }
      ]
    },
    {
      "cell_type": "markdown",
      "metadata": {
        "id": "BReDQyDIQPvA"
      },
      "source": [
        "---\n",
        "**❓ 6. For each variable that is a continuous variable, provide the summary statistics including the mean, min, and max.**  \n",
        "\n",
        "**💡 Hint:**  \n",
        "Pandas can pull all this information with a single function."
      ],
      "id": "BReDQyDIQPvA"
    },
    {
      "cell_type": "code",
      "metadata": {
        "id": "-DDBL9pYQPvB",
        "colab": {
          "base_uri": "https://localhost:8080/"
        },
        "outputId": "81173322-1c24-4900-c46a-201fefc5ab2e"
      },
      "source": [
        "print(df.describe())"
      ],
      "id": "-DDBL9pYQPvB",
      "execution_count": 9,
      "outputs": [
        {
          "output_type": "stream",
          "name": "stdout",
          "text": [
            "       Typical Hours  Annual Salary    Hourly Rate\n",
            "count    6627.000000   23999.000000    7060.000000\n",
            "mean       81.303003   91854.386321   10107.352329\n",
            "std       119.726694   20163.452338   39551.669560\n",
            "min        10.000000   21600.000000       3.000000\n",
            "25%        40.000000   80016.000000      32.130000\n",
            "50%        40.000000   90024.000000      39.390000\n",
            "75%        40.000000  101874.000000      50.680000\n",
            "max       400.000000  149700.000000  275004.000000\n"
          ]
        }
      ]
    },
    {
      "cell_type": "markdown",
      "metadata": {
        "id": "WAmKoMJhQPvB"
      },
      "source": [
        "---\n",
        "**❓ 7. For each variable that is a continuous variable, create a histogram to view its respective distribution**\n",
        "\n",
        "**💡 Hint:**  \n",
        "Check out the [pandas hist() function](https://pandas.pydata.org/pandas-docs/dev/reference/api/pandas.DataFrame.hist.html)."
      ],
      "id": "WAmKoMJhQPvB"
    },
    {
      "cell_type": "code",
      "metadata": {
        "id": "y20-a0nLQPvB",
        "colab": {
          "base_uri": "https://localhost:8080/",
          "height": 281
        },
        "outputId": "7f700d04-d07f-4671-93a9-ea0962d863eb"
      },
      "source": [
        "hist = df.hist(bins=3)\n"
      ],
      "id": "y20-a0nLQPvB",
      "execution_count": 10,
      "outputs": [
        {
          "output_type": "display_data",
          "data": {
            "image/png": "[encoded data removed]",
            "text/plain": [
              "<Figure size 432x288 with 4 Axes>"
            ]
          },
          "metadata": {
            "needs_background": "light"
          }
        }
      ]
    },
    {
      "cell_type": "code",
      "metadata": {
        "colab": {
          "base_uri": "https://localhost:8080/",
          "height": 315
        },
        "id": "xcTrBWryN2q1",
        "outputId": "b8c1f304-c3e9-46f0-b9d2-cf3ba886f41e"
      },
      "source": [
        "df.hist(column='Annual Salary')"
      ],
      "id": "xcTrBWryN2q1",
      "execution_count": 11,
      "outputs": [
        {
          "output_type": "execute_result",
          "data": {
            "text/plain": [
              "array([[<matplotlib.axes._subplots.AxesSubplot object at 0x7fac17726550>]],\n",
              "      dtype=object)"
            ]
          },
          "metadata": {},
          "execution_count": 11
        },
        {
          "output_type": "display_data",
          "data": {
            "image/png": "[encoded data removed]",
            "text/plain": [
              "<Figure size 432x288 with 1 Axes>"
            ]
          },
          "metadata": {
            "needs_background": "light"
          }
        }
      ]
    },
    {
      "cell_type": "code",
      "metadata": {
        "colab": {
          "base_uri": "https://localhost:8080/",
          "height": 315
        },
        "id": "9cxXC2ledjze",
        "outputId": "5246af1f-e959-4124-bcb4-43d38be00a26"
      },
      "source": [
        "df.hist(column='Hourly Rate')"
      ],
      "id": "9cxXC2ledjze",
      "execution_count": 12,
      "outputs": [
        {
          "output_type": "execute_result",
          "data": {
            "text/plain": [
              "array([[<matplotlib.axes._subplots.AxesSubplot object at 0x7fac1727ff10>]],\n",
              "      dtype=object)"
            ]
          },
          "metadata": {},
          "execution_count": 12
        },
        {
          "output_type": "display_data",
          "data": {
            "image/png": "[encoded data removed]",
            "text/plain": [
              "<Figure size 432x288 with 1 Axes>"
            ]
          },
          "metadata": {
            "needs_background": "light"
          }
        }
      ]
    },
    {
      "cell_type": "code",
      "metadata": {
        "colab": {
          "base_uri": "https://localhost:8080/",
          "height": 315
        },
        "id": "pQFG6rURekK0",
        "outputId": "a39cb38a-c324-4b70-9d3b-390a977fcbb5"
      },
      "source": [
        "df.hist(column='Typical Hours')"
      ],
      "id": "pQFG6rURekK0",
      "execution_count": 13,
      "outputs": [
        {
          "output_type": "execute_result",
          "data": {
            "text/plain": [
              "array([[<matplotlib.axes._subplots.AxesSubplot object at 0x7fac1719b290>]],\n",
              "      dtype=object)"
            ]
          },
          "metadata": {},
          "execution_count": 13
        },
        {
          "output_type": "display_data",
          "data": {
            "image/png": "[encoded data removed]",
            "text/plain": [
              "<Figure size 432x288 with 1 Axes>"
            ]
          },
          "metadata": {
            "needs_background": "light"
          }
        }
      ]
    },
    {
      "cell_type": "markdown",
      "metadata": {
        "id": "TsUagI2qQPvB"
      },
      "source": [
        "---\n",
        "**❓ 8. For each variable that is not a continuous variable (e.g. text data), determine:**\n",
        "- **a) the number of values present**\n",
        "- **b) the number of unique values present**  \n",
        "- **c) each unique value if there are less than 100 unique values.**"
      ],
      "id": "TsUagI2qQPvB"
    },
    {
      "cell_type": "code",
      "metadata": {
        "id": "pDfpyAi3QPvC",
        "colab": {
          "base_uri": "https://localhost:8080/"
        },
        "outputId": "a58bec68-dddf-43e0-fe19-6f369ff95797"
      },
      "source": [
        "number_values = df.count()\n",
        "print(number_values)"
      ],
      "id": "pDfpyAi3QPvC",
      "execution_count": 14,
      "outputs": [
        {
          "output_type": "stream",
          "name": "stdout",
          "text": [
            "Name                 31059\n",
            "Job Titles           31059\n",
            "Department           31059\n",
            "Full or Part-Time    31059\n",
            "Salary or Hourly     31059\n",
            "Typical Hours         6627\n",
            "Annual Salary        23999\n",
            "Hourly Rate           7060\n",
            "dtype: int64\n"
          ]
        }
      ]
    },
    {
      "cell_type": "code",
      "metadata": {
        "colab": {
          "base_uri": "https://localhost:8080/"
        },
        "id": "TvIc45QvUkF3",
        "outputId": "60da1132-c9d7-4325-df74-95248ecf5b44"
      },
      "source": [
        "item_counts = df.nunique()\n",
        "print(item_counts)"
      ],
      "id": "TvIc45QvUkF3",
      "execution_count": 57,
      "outputs": [
        {
          "output_type": "stream",
          "name": "stdout",
          "text": [
            "Name                 30761\n",
            "Job Titles            1080\n",
            "Department              54\n",
            "Full or Part-Time        4\n",
            "Salary or Hourly         2\n",
            "Typical Hours            5\n",
            "Annual Salary          812\n",
            "Hourly Rate            220\n",
            "dtype: int64\n"
          ]
        }
      ]
    },
    {
      "cell_type": "code",
      "metadata": {
        "colab": {
          "base_uri": "https://localhost:8080/"
        },
        "id": "sL24liYTYAIy",
        "outputId": "3338eaa6-3b09-462f-a476-11f18b36a7aa"
      },
      "source": [
        "item_unique = df.nunique() > 100\n",
        "print(item_unique)"
      ],
      "id": "sL24liYTYAIy",
      "execution_count": 53,
      "outputs": [
        {
          "output_type": "stream",
          "name": "stdout",
          "text": [
            "Name                  True\n",
            "Job Titles            True\n",
            "Department           False\n",
            "Full or Part-Time    False\n",
            "Salary or Hourly     False\n",
            "Typical Hours        False\n",
            "Annual Salary         True\n",
            "Hourly Rate           True\n",
            "dtype: bool\n"
          ]
        }
      ]
    },
    {
      "cell_type": "markdown",
      "metadata": {
        "id": "S7DDzJyDQPvC"
      },
      "source": [
        "---\n",
        "**❓ OPTIONAL: Using this notebook's markdown cells, write a brief data analysis plan based off the data review you just conducted above using the following template.**  \n",
        "- **Data Source**\n",
        "    - Describe the data source at a high level in 1 to 2 sentences.\n",
        "- **Data Preparation**\n",
        "    - What are the main data cleaning steps and data quality checks do you need to conduct before you can analyze the data.\n",
        "- **Data Analysis**\n",
        "    - For each of the questions asked by the Head of Accounting, describe how you will derive the answer.\n",
        "\n",
        "**💡 Hint:**  \n",
        "Checkout the [documentation](https://www.markdownguide.org/basic-syntax/) if you are new to markdown.\n",
        "\n",
        "**💭 Reflection Point:**  \n",
        "Why might it be useful to create an analysis plan before going directly into analyzing your data? How could a data analysis plan help you work better with your non-technical stakeholders?"
      ],
      "id": "S7DDzJyDQPvC"
    },
    {
      "cell_type": "markdown",
      "metadata": {
        "id": "cmn24i7EQPvC"
      },
      "source": [
        "\n",
        "\n",
        "---\n",
        "\n",
        "\n",
        "### Describing the datasource\n",
        "\n",
        "*   Most of the employees works 40 hours per week. \n",
        "*   The average salary are 92 K USD per year. Meanwhile the highest is close to 150 K USD\n",
        "\n",
        "### Data preparation using Pyhton \n",
        "\n",
        "According the Wikipedia, **Data Cleaning** is:\n",
        "the process of *detecting* and *correcting* (or *removing*) corrupt or inaccurate records from a record set, table, or database and refers to identifying incomplete, incorrect, inaccurate or irrelevant parts of the data and then replacing, modifying, or deleting the dirty or coarse data.\n",
        "\n",
        "From this definition, we can say that the aspects of clean data are : \n",
        "\n",
        "\n",
        "\n",
        "*   Complete\n",
        "*   Correct\n",
        "*   Accurate\n",
        "*   Relevant \n",
        "\n",
        "Before jump in into data it's crucial to : \n",
        "\n",
        "\n",
        "\n",
        "*   Take a look brief of the data \n",
        "*   Find missing and inconsistent values \n",
        "*   Outliers\n",
        "\n",
        "\n",
        "### Further steps \n",
        "\n",
        "\n",
        "\n",
        "1.   Dive in differences between hourly paid and salary based employes \n",
        "2.   Department and payment segmentation\n",
        "\n",
        "\n",
        "\n",
        "---"
      ],
      "id": "cmn24i7EQPvC"
    },
    {
      "cell_type": "markdown",
      "metadata": {
        "id": "xJj8c3TPQPvD"
      },
      "source": [
        "# Week 2: Data Cleaning and Insights\n",
        "The focus of week 2 will be on:\n",
        "- Cleaning data and thinking through assumptions when preparing data.\n",
        "- Feature engineering a total yearly pay variable.\n",
        "- Answering the questions presented by the Head of Finance.\n",
        "\n",
        "**💻 Industry Perspective**  \n",
        "Along with the technical skills, being able to make great assumptions about your data is key to success as a data professional. Your assumptions need to be documented and validated by external sources (e.g. a subject matter expert or personal research) when possible. Having thoughtful assumptions and being able to clearly communicate these steps will build trust in your results from your stakeholders."
      ],
      "id": "xJj8c3TPQPvD"
    },
    {
      "cell_type": "markdown",
      "metadata": {
        "id": "wjYcdaCXQPvD"
      },
      "source": [
        "### Data Preparation"
      ],
      "id": "wjYcdaCXQPvD"
    },
    {
      "cell_type": "markdown",
      "metadata": {
        "id": "jwrrIQkJQPvD"
      },
      "source": [
        "**💭 Reflection Point:**  \n",
        "One of the first steps we are going to take is copying our dataframe under a new name. Why would it be important to take this step? Are there any instances where we wouldn't want to take this step?"
      ],
      "id": "jwrrIQkJQPvD"
    },
    {
      "cell_type": "code",
      "metadata": {
        "id": "P_xh5HYrQPvD"
      },
      "source": [
        "salary_clean_df = salary_df.copy()"
      ],
      "id": "P_xh5HYrQPvD",
      "execution_count": null,
      "outputs": []
    },
    {
      "cell_type": "markdown",
      "metadata": {
        "id": "rBCqHAOpQPvD"
      },
      "source": [
        "---\n",
        "**❓ 9. `Full or Part-Time` is important to answer the Head of Finance's questions, thus please review this variable to ensure it's clean.**  \n",
        "\n",
        "**💡 Hints:**  \n",
        "1. Use `sorted(salary_df[<col_name>].unique())` to check your work.\n",
        "2. `pandas.Series.str.replace` can be useful for this task.\n",
        "    - Documentation: https://pandas.pydata.org/docs/reference/api/pandas.Series.str.replace.html\n",
        "\n",
        "**🐍 Python A-Z: Helpful Modules:** \n",
        "- Replace and dealing with nulls explained:\n",
        "    - https://www.superdatascience.com/courses/data-manipulation-in-python/replacing-and-thresholding\n",
        "- Vectorized function (str) explained:(6:07)\n",
        "    - https://www.superdatascience.com/courses/data-manipulation-in-python/apply-map-and-vectorised-functions"
      ],
      "id": "rBCqHAOpQPvD"
    },
    {
      "cell_type": "code",
      "metadata": {
        "id": "FexWwKkcQPvD"
      },
      "source": [
        "##################\n",
        "# your code here #\n",
        "##################\n"
      ],
      "id": "FexWwKkcQPvD",
      "execution_count": null,
      "outputs": []
    },
    {
      "cell_type": "markdown",
      "metadata": {
        "id": "0fm0wus1QPvE"
      },
      "source": [
        "---\n",
        "**❓ 10. Another important variable is `Department`. Please review this variable as well to ensure it is clean.**  \n",
        "\n",
        "**💭 Reflection Point:**  \n",
        "Sometimes we don't have all the data we need to make the best possible assumptions, and thus we need to get creative to answer our questions. For example, I used the [City of Chicago's department list website](https://www.chicago.gov/city/en/depts.html) to validate some of my assumptions. What are some other ways we can check assumptions?"
      ],
      "id": "0fm0wus1QPvE"
    },
    {
      "cell_type": "code",
      "metadata": {
        "id": "rJEvUTFaQPvE"
      },
      "source": [
        "##################\n",
        "# your code here #\n",
        "##################\n"
      ],
      "id": "rJEvUTFaQPvE",
      "execution_count": null,
      "outputs": []
    },
    {
      "cell_type": "markdown",
      "metadata": {
        "id": "-gjJF_AWQPvE"
      },
      "source": [
        "---\n",
        "**❓ 11. We now need to ensure the variables around pay are in a good enough state to do our analysis. First, check the variable `Typical Hours` for any discrepancies we can resolve.**\n",
        "\n",
        "**💡 Hints:**  \n",
        "1. Your manager informed you that there was a clerical error where a certain department accidentally added a extra zero to their full-time workers' typical hours.\n",
        "2. Use `np.nan` to create Null values.\n",
        "3. Use `pd.DataFrame.loc` to subset and filter your data.\n",
        "    - Documentation: https://pandas.pydata.org/docs/reference/api/pandas.DataFrame.loc.html\n",
        "    - Note that `.loc` is for accessing several elements while `.at` accesses a single element within a dataframe.\n",
        "\n",
        "**💭 Reflection Point:**  \n",
        "We are going to make some assumptions if we make any data cleaning changes. How would this impact our analysis? How can we best communicate these assumptions with non-technical stakeholders?"
      ],
      "id": "-gjJF_AWQPvE"
    },
    {
      "cell_type": "code",
      "metadata": {
        "id": "K8cCj_3JQPvE"
      },
      "source": [
        "##################\n",
        "# your code here #\n",
        "##################\n"
      ],
      "id": "K8cCj_3JQPvE",
      "execution_count": null,
      "outputs": []
    },
    {
      "cell_type": "markdown",
      "metadata": {
        "id": "OFbd5qHqQPvE"
      },
      "source": [
        "---\n",
        "**❓ 12. Now let's check the variables `Hourly Rate` and `Annual Salary` for any discrepancies.**\n",
        "\n",
        "**💡 Hints:**  \n",
        "- Check histograms and summary statistics.\n",
        "- Identify pattern and resolve the error using this pattern to your advantage.\n",
        "- Check histograms and summary statistics again to confirm your change worked."
      ],
      "id": "OFbd5qHqQPvE"
    },
    {
      "cell_type": "code",
      "metadata": {
        "id": "8qGHJvmFQPvE"
      },
      "source": [
        "##################\n",
        "# your code here #\n",
        "##################\n"
      ],
      "id": "8qGHJvmFQPvE",
      "execution_count": null,
      "outputs": []
    },
    {
      "cell_type": "markdown",
      "metadata": {
        "id": "NlJ3K8UpQPvE"
      },
      "source": [
        "---\n",
        "**❓ 13. Now, let's confirm whether or not the nulls present are valid.**  \n",
        "\n",
        "**💡 Hint:**  \n",
        "What are two conditions that can't be true together for `Salary or Hourly` and `Annual Salary`?"
      ],
      "id": "NlJ3K8UpQPvE"
    },
    {
      "cell_type": "code",
      "metadata": {
        "id": "d4cS4VFmQPvF"
      },
      "source": [
        "##################\n",
        "# your code here #\n",
        "##################\n"
      ],
      "id": "d4cS4VFmQPvF",
      "execution_count": null,
      "outputs": []
    },
    {
      "cell_type": "markdown",
      "metadata": {
        "id": "5MbLMcSWQPvF"
      },
      "source": [
        "---\n",
        "**❓ 14. Create a column called `Yearly Pay` that allows us to compare both salary and hourly employees' pay within the same column.**\n",
        "\n",
        "**💡 Hints:**  \n",
        "- There are 52 weeks within a year.\n",
        "- You can use pandas to multiply or add columns together to create values within a new column (i.e. \"vectorization\")"
      ],
      "id": "5MbLMcSWQPvF"
    },
    {
      "cell_type": "code",
      "metadata": {
        "id": "G6ct5gw0QPvF"
      },
      "source": [
        "##################\n",
        "# your code here #\n",
        "##################\n"
      ],
      "id": "G6ct5gw0QPvF",
      "execution_count": null,
      "outputs": []
    },
    {
      "cell_type": "markdown",
      "metadata": {
        "id": "XHylZjZdQPvF"
      },
      "source": [
        "### Data Analysis  \n",
        "Again, we are going to copy our data for the next steps."
      ],
      "id": "XHylZjZdQPvF"
    },
    {
      "cell_type": "code",
      "metadata": {
        "id": "SuTwFvTQQPvF"
      },
      "source": [
        "salary_analysis_df = salary_clean_df.copy()"
      ],
      "id": "SuTwFvTQQPvF",
      "execution_count": null,
      "outputs": []
    },
    {
      "cell_type": "markdown",
      "metadata": {
        "id": "7bI6IlruQPvF"
      },
      "source": [
        "---\n",
        "**❓ 15. Does the City of Chicago pay more for salary or hourly employees among those who are full-time?**"
      ],
      "id": "7bI6IlruQPvF"
    },
    {
      "cell_type": "code",
      "metadata": {
        "id": "jMnfD_htQPvG"
      },
      "source": [
        "##################\n",
        "# your code here #\n",
        "##################\n"
      ],
      "id": "jMnfD_htQPvG",
      "execution_count": null,
      "outputs": []
    },
    {
      "cell_type": "markdown",
      "metadata": {
        "id": "mm6BjGtkQPvG"
      },
      "source": [
        "---\n",
        "**❓ 16. What's the distribution of pay, among City of Chicago employees, stratified by hourly and salary employees?**\n",
        "\n",
        "How to Plot a Histogram  \n",
        "https://seaborn.pydata.org/generated/seaborn.displot.html\n",
        "```\n",
        "# plot histogram\n",
        "sns.displot(kind='hist', data=<data_frame>, x=<column_name>, hue=<column_name>, height=4, aspect=4)\n",
        "```\n",
        "\n",
        "How to Plot a Boxplot  \n",
        "https://seaborn.pydata.org/generated/seaborn.boxplot.html\n",
        "```\n",
        "# plot boxplot\n",
        "plt.pyplot.figure(figsize=(20,5))\n",
        "sns.boxplot(data=<data_frame>, x=<column_name>, y=<column_name>)\n",
        "```\n",
        "\n",
        "💭 Reflection Point: \n",
        "What's the difference between a boxplot and histogram? Which graph type best communicates our results?"
      ],
      "id": "mm6BjGtkQPvG"
    },
    {
      "cell_type": "code",
      "metadata": {
        "id": "YnOsAjxFQPvG"
      },
      "source": [
        "##################\n",
        "# your code here #\n",
        "##################\n"
      ],
      "id": "YnOsAjxFQPvG",
      "execution_count": null,
      "outputs": []
    },
    {
      "cell_type": "markdown",
      "metadata": {
        "id": "aQK0sEI-QPvG"
      },
      "source": [
        "---\n",
        "**❓ 17. What are the top 5 highest paid departments by total and employee average?**\n",
        "\n",
        "💭 Reflection Point:  \n",
        "What are the implications of using mean as compared to median?\n",
        "\n",
        "**🐍 Python A-Z: Helpful Modules:** \n",
        "- Groupby explained:\n",
        "    - https://www.superdatascience.com/courses/data-manipulation-in-python/basic-grouping-syntax\n",
        "- `groupby().agg()` explained:\n",
        "    - https://www.superdatascience.com/courses/data-manipulation-in-python/grouping-aggregation"
      ],
      "id": "aQK0sEI-QPvG"
    },
    {
      "cell_type": "code",
      "metadata": {
        "id": "b5EuCm2aQPvG"
      },
      "source": [
        "##################\n",
        "# your code here #\n",
        "##################\n"
      ],
      "id": "b5EuCm2aQPvG",
      "execution_count": null,
      "outputs": []
    },
    {
      "cell_type": "markdown",
      "metadata": {
        "id": "gXL8wgnwQPvH"
      },
      "source": [
        "---\n",
        "**❓ 18. Congrats on completing your first analysis at your new job-- you are already driving impact! As a final step, write an email to the Head of Finance answering their questions. Remember that this stakeholder has minimal data experience.**"
      ],
      "id": "gXL8wgnwQPvH"
    },
    {
      "cell_type": "markdown",
      "metadata": {
        "id": "PWZwxZpuQPvH"
      },
      "source": [
        "### Your Email Here\n",
        ".  \n",
        ".  \n",
        ".  "
      ],
      "id": "PWZwxZpuQPvH"
    },
    {
      "cell_type": "markdown",
      "metadata": {
        "id": "qzRbB09SQPvH"
      },
      "source": [
        "---\n",
        "**🔥 Hard Challenge 🔥**  \n",
        "  \n",
        "**❓ OPTIONAL: The Head of Finance loved your work so much that you were asked to generate your results every quarter. Create a function, or set of functions, to automate this entire analysis.**\n",
        "\n",
        "**💡 Hint:**  \n",
        "Do not attempt this until you have completed the rest of the module.  \n",
        "\n",
        "**💻 Industry Perspective**  \n",
        "In industry, you often take your raw code from an initial analysis and \"refactor\" it for scalability.*"
      ],
      "id": "qzRbB09SQPvH"
    },
    {
      "cell_type": "code",
      "metadata": {
        "id": "shEGlUUiQPvH"
      },
      "source": [
        "##################\n",
        "# your code here #\n",
        "##################\n"
      ],
      "id": "shEGlUUiQPvH",
      "execution_count": null,
      "outputs": []
    },
    {
      "cell_type": "markdown",
      "metadata": {
        "id": "c5rSVWl8QPvH"
      },
      "source": [
        "# End of Module\n",
        "*Disclaimer:  \n",
        "This site provides applications using data that has been modified for use from its original source, www.cityofchicago.org, the official website of the City of Chicago.  The City of Chicago makes no claims as to the content, accuracy, timeliness, or completeness of any of the data provided at this site.  The data provided at this site is subject to change at any time.  It is understood that the data provided at this site is being used at one’s own risk.*"
      ],
      "id": "c5rSVWl8QPvH"
    }
  ]
}